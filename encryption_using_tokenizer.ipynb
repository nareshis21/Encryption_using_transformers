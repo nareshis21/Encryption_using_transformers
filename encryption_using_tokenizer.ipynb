{
  "nbformat": 4,
  "nbformat_minor": 0,
  "metadata": {
    "colab": {
      "provenance": []
    },
    "kernelspec": {
      "name": "python3",
      "display_name": "Python 3"
    },
    "language_info": {
      "name": "python"
    }
  },
  "cells": [
    {
      "cell_type": "code",
      "source": [
        "!pip install transformers\n",
        "!pip install datasets\n",
        "!pip install cryptography"
      ],
      "metadata": {
        "id": "8SUZL405G4W7"
      },
      "execution_count": null,
      "outputs": []
    },
    {
      "cell_type": "code",
      "execution_count": 24,
      "metadata": {
        "id": "MHoOH9qDG3Dp"
      },
      "outputs": [],
      "source": [
        "import pandas as pd\n",
        "import datasets\n",
        "from pprint import pprint\n",
        "from transformers import AutoTokenizer\n",
        "from cryptography.hazmat.primitives.ciphers import Cipher, algorithms, modes\n",
        "from cryptography.hazmat.backends import default_backend\n",
        "import os\n",
        "import hashlib"
      ]
    },
    {
      "cell_type": "code",
      "source": [
        "def text_to_key(text):\n",
        "    return hashlib.sha256(text.encode()).digest()\n",
        "# Example Usage\n",
        "text = input()\n",
        "key = text_to_key(text)\n",
        "print(key)\n"
      ],
      "metadata": {
        "id": "WnkqhyrrHXmm"
      },
      "execution_count": null,
      "outputs": []
    },
    {
      "cell_type": "code",
      "source": [
        "text_w = input()"
      ],
      "metadata": {
        "id": "cVTRAgWSM3kd"
      },
      "execution_count": null,
      "outputs": []
    },
    {
      "cell_type": "code",
      "source": [
        "def whole_setup(key,text_w):\n",
        "  #encrypt\n",
        "  def encrypt(plain_text, key):\n",
        "     # Generate a random 96-bit IV.\n",
        "      iv = os.urandom(12)\n",
        "     # Create AES-GCM Cipher.\n",
        "      cipher = Cipher(algorithms.AES(key), modes.GCM(iv), backend=default_backend())\n",
        "      encryptor = cipher.encryptor()\n",
        "      # Encrypt the data.\n",
        "      cipher_text = encryptor.update(plain_text.encode()) + encryptor.finalize()\n",
        "     # Return IV, authentication tag (needed for decryption) and cipher_text.\n",
        "      return iv, encryptor.tag, cipher_text\n",
        "\n",
        "  #decrypt\n",
        "  def decrypt(iv, tag, cipher_text, key):\n",
        "      cipher = Cipher(algorithms.AES(key), modes.GCM(iv, tag), backend=default_backend())\n",
        "      decryptor = cipher.decryptor()\n",
        "      return decryptor.update(cipher_text) + decryptor.finalize()\n",
        "\n",
        "\n",
        "  tokenizer = AutoTokenizer.from_pretrained(\"EleutherAI/pythia-70m\")\n",
        "  encoded_text = tokenizer(text_w)[\"input_ids\"]\n",
        "  encoded_list = encoded_text\n",
        "  encoded_str = ','.join(map(str, encoded_list))\n",
        "  large_text = encoded_str\n",
        "  iv, tag, encrypted_data = encrypt(large_text, key)\n",
        "  decrypt_dext_ = decrypt(iv, tag, encrypted_data, key)\n",
        "  decrypt_text = decrypt_dext_.decode()\n",
        "  decoded_list= decrypt_text.split(',')\n",
        "  decoded_list_int = list(map(int, decoded_list))\n",
        "  decoded_text = tokenizer.decode(decoded_list_int)\n",
        "  return {'decrypt_tt':decoded_text}"
      ],
      "metadata": {
        "id": "v6BbK4lFMjFp"
      },
      "execution_count": 29,
      "outputs": []
    },
    {
      "cell_type": "code",
      "source": [
        "print('decryption',whole_setup(key,text_w))"
      ],
      "metadata": {
        "colab": {
          "base_uri": "https://localhost:8080/"
        },
        "id": "3iEbjrGJNT5F",
        "outputId": "53830eb1-72e1-4101-e798-466fc7f6f702"
      },
      "execution_count": 30,
      "outputs": [
        {
          "output_type": "stream",
          "name": "stdout",
          "text": [
            "decryption {'decrypt_tt': 'nredskkhjkl'}\n"
          ]
        }
      ]
    }
  ]
}